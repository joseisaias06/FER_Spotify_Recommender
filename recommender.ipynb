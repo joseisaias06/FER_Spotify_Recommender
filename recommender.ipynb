{
  "cells": [
    {
      "cell_type": "markdown",
      "metadata": {
        "id": "-bXzDZLcRF3T"
      },
      "source": [
        "Importando los módulos necesario"
      ]
    },
    {
      "cell_type": "code",
      "execution_count": 7,
      "metadata": {
        "colab": {
          "base_uri": "https://localhost:8080/"
        },
        "id": "3SX536sv3iCY",
        "outputId": "e7fa4db6-2aea-4c9c-8f55-d47ad456f79f"
      },
      "outputs": [
        {
          "name": "stdout",
          "output_type": "stream",
          "text": [
            "Requirement already satisfied: fer in c:\\users\\luisg\\appdata\\local\\programs\\python\\python310\\lib\\site-packages (22.4.0)\n",
            "Requirement already satisfied: opencv-contrib-python in c:\\users\\luisg\\appdata\\local\\programs\\python\\python310\\lib\\site-packages (from fer) (4.5.5.64)\n",
            "Requirement already satisfied: keras>=2.0.0 in c:\\users\\luisg\\appdata\\local\\programs\\python\\python310\\lib\\site-packages (from fer) (2.9.0)\n",
            "Requirement already satisfied: requests in c:\\users\\luisg\\appdata\\local\\programs\\python\\python310\\lib\\site-packages (from fer) (2.27.1)\n",
            "Requirement already satisfied: tqdm in c:\\users\\luisg\\appdata\\local\\programs\\python\\python310\\lib\\site-packages (from fer) (4.64.0)\n",
            "Requirement already satisfied: matplotlib in c:\\users\\luisg\\appdata\\local\\programs\\python\\python310\\lib\\site-packages (from fer) (3.5.2)\n",
            "Requirement already satisfied: mtcnn>=0.1.1 in c:\\users\\luisg\\appdata\\local\\programs\\python\\python310\\lib\\site-packages (from fer) (0.1.1)\n",
            "Requirement already satisfied: opencv-python>=4.1.0 in c:\\users\\luisg\\appdata\\local\\programs\\python\\python310\\lib\\site-packages (from mtcnn>=0.1.1->fer) (4.5.5.64)\n",
            "Requirement already satisfied: packaging>=20.0 in c:\\users\\luisg\\appdata\\local\\programs\\python\\python310\\lib\\site-packages (from matplotlib->fer) (21.3)\n",
            "Requirement already satisfied: pyparsing>=2.2.1 in c:\\users\\luisg\\appdata\\local\\programs\\python\\python310\\lib\\site-packages (from matplotlib->fer) (3.0.9)\n",
            "Requirement already satisfied: cycler>=0.10 in c:\\users\\luisg\\appdata\\local\\programs\\python\\python310\\lib\\site-packages (from matplotlib->fer) (0.11.0)\n",
            "Requirement already satisfied: numpy>=1.17 in c:\\users\\luisg\\appdata\\local\\programs\\python\\python310\\lib\\site-packages (from matplotlib->fer) (1.22.3)\n",
            "Requirement already satisfied: kiwisolver>=1.0.1 in c:\\users\\luisg\\appdata\\local\\programs\\python\\python310\\lib\\site-packages (from matplotlib->fer) (1.4.2)\n",
            "Requirement already satisfied: pillow>=6.2.0 in c:\\users\\luisg\\appdata\\local\\programs\\python\\python310\\lib\\site-packages (from matplotlib->fer) (9.1.1)\n",
            "Requirement already satisfied: python-dateutil>=2.7 in c:\\users\\luisg\\appdata\\local\\programs\\python\\python310\\lib\\site-packages (from matplotlib->fer) (2.8.2)\n",
            "Requirement already satisfied: fonttools>=4.22.0 in c:\\users\\luisg\\appdata\\local\\programs\\python\\python310\\lib\\site-packages (from matplotlib->fer) (4.33.3)\n",
            "Requirement already satisfied: urllib3<1.27,>=1.21.1 in c:\\users\\luisg\\appdata\\local\\programs\\python\\python310\\lib\\site-packages (from requests->fer) (1.26.9)\n",
            "Requirement already satisfied: certifi>=2017.4.17 in c:\\users\\luisg\\appdata\\local\\programs\\python\\python310\\lib\\site-packages (from requests->fer) (2022.5.18)\n",
            "Requirement already satisfied: charset-normalizer~=2.0.0 in c:\\users\\luisg\\appdata\\local\\programs\\python\\python310\\lib\\site-packages (from requests->fer) (2.0.12)\n",
            "Requirement already satisfied: idna<4,>=2.5 in c:\\users\\luisg\\appdata\\local\\programs\\python\\python310\\lib\\site-packages (from requests->fer) (3.3)\n",
            "Requirement already satisfied: colorama in c:\\users\\luisg\\appdata\\local\\programs\\python\\python310\\lib\\site-packages (from tqdm->fer) (0.4.4)\n",
            "Requirement already satisfied: six>=1.5 in c:\\users\\luisg\\appdata\\local\\programs\\python\\python310\\lib\\site-packages (from python-dateutil>=2.7->matplotlib->fer) (1.16.0)\n"
          ]
        }
      ],
      "source": [
        "!pip install fer"
      ]
    },
    {
      "cell_type": "code",
      "execution_count": 10,
      "metadata": {
        "id": "NEMNtJfOPuPp"
      },
      "outputs": [],
      "source": [
        "import numpy as np\n",
        "import pandas as pd\n",
        "import matplotlib.pyplot as plt\n",
        "import yaml\n",
        "from sklearn.feature_selection import RFECV\n",
        "from sklearn.model_selection import train_test_split, StratifiedKFold, GridSearchCV, RandomizedSearchCV\n",
        "from sklearn.metrics import classification_report\n",
        "from sklearn.ensemble import RandomForestClassifier\n",
        "from xgboost import XGBClassifier\n",
        "from sklearn.neighbors import KNeighborsClassifier\n",
        "from numpy.linalg import norm\n",
        "from fer import FER\n",
        "import matplotlib.pyplot as plt \n",
        "import cv2"
      ]
    },
    {
      "cell_type": "markdown",
      "metadata": {
        "id": "M8hC0FsYtiyq"
      },
      "source": [
        "Cargar información del Usuario"
      ]
    },
    {
      "cell_type": "code",
      "execution_count": 17,
      "metadata": {
        "colab": {
          "base_uri": "https://localhost:8080/",
          "height": 464
        },
        "id": "E1Mjd8eItjmG",
        "outputId": "7a89c058-2255-4c80-84a2-e5791ec03c7f"
      },
      "outputs": [],
      "source": [
        "top_artist_df = pd.read_pickle(r'https://github.com/joseisaias06/FER_Spotify_Recommender/blob/main/spotify_data/data_user1/top_artists.pkl?raw=true')\n",
        "top_tracks_df = pd.read_pickle(r'https://github.com/joseisaias06/FER_Spotify_Recommender/blob/main/spotify_data/data_user1/top_tracks.pkl?raw=true')\n",
        "saved_tracks_df = pd.read_pickle(r'https://github.com/joseisaias06/FER_Spotify_Recommender/blob/main/spotify_data/data_user1/saved_tracks.pkl?raw=true')\n",
        "playlist_tracks_df = pd.read_pickle(r'https://github.com/joseisaias06/FER_Spotify_Recommender/blob/main/spotify_data/data_user1/playlist_tracks.pkl?raw=true')\n",
        "recommendation_tracks_df = pd.read_pickle(r'https://github.com/joseisaias06/FER_Spotify_Recommender/blob/main/spotify_data/data_user1/recommendation_tracks.pkl?raw=true')\n",
        "\n",
        "with open(r'C:\\Users\\luisg\\Downloads\\spotify-recommender-systems-main\\local\\playlists.yml') as stream:\n",
        "    playlists = yaml.safe_load(stream)\n"
      ]
    },
    {
      "cell_type": "code",
      "execution_count": 18,
      "metadata": {
        "id": "IuAXiNfARmJR"
      },
      "outputs": [],
      "source": [
        "# Eliminar duplicados en el ID\n",
        "playlist_tracks_df = playlist_tracks_df.drop_duplicates(subset='id', keep=\"first\").reset_index()\n",
        "recommendation_tracks_df = recommendation_tracks_df.drop_duplicates(subset='id', keep=\"first\").reset_index()\n",
        "# Prevenir data leakage\n",
        "recommendation_tracks_df = recommendation_tracks_df[~recommendation_tracks_df['id'].isin(playlist_tracks_df['id'].tolist())]"
      ]
    },
    {
      "cell_type": "markdown",
      "metadata": {
        "id": "PWGi-PL8uZuL"
      },
      "source": [
        "Para evitar tener que etiquetar todas las canciones que tenemos del 1 al 10. Lo hacemos como un problema de clasificación.\n",
        "Tendremos un 1 para las canciones que estén dentro de nuestras más escuchadas, que sean de nuestros artistas más escuchados o estén guardadas. Y un 0 de otro modo."
      ]
    },
    {
      "cell_type": "code",
      "execution_count": 19,
      "metadata": {
        "id": "V-yeoyuRRmPP"
      },
      "outputs": [],
      "source": [
        "saved_tracks_list = list(saved_tracks_df['id'])\n",
        "top_tracks_list = list(top_tracks_df['id'])\n",
        "top_artist_list = list(top_artist_df['id'])\n",
        "\n",
        "playlist_tracks_df['ratings'] = playlist_tracks_df['id'].apply(lambda x: 1 if x in top_tracks_list else 0)\n",
        "playlist_tracks_df['ratings'] = playlist_tracks_df.apply(lambda x: 1 if x['artist_id'] in top_artist_list else x.ratings, axis=1)\n",
        "playlist_tracks_df['ratings'] = playlist_tracks_df.apply(lambda x: 1 if x['id'] in saved_tracks_list else x.ratings, axis=1)"
      ]
    },
    {
      "cell_type": "markdown",
      "metadata": {
        "id": "ztVAf3X9usM6"
      },
      "source": [
        "Crear los datos de entrenamiento y de prueba"
      ]
    },
    {
      "cell_type": "code",
      "execution_count": 20,
      "metadata": {
        "id": "VXYItRaBthkZ"
      },
      "outputs": [
        {
          "name": "stderr",
          "output_type": "stream",
          "text": [
            "C:\\Users\\luisg\\AppData\\Local\\Temp\\ipykernel_17660\\725810985.py:12: FutureWarning: In a future version of pandas all arguments of DataFrame.drop except for the argument 'labels' will be keyword-only.\n",
            "  X = X.drop('genres', 1).join(X['genres'].str.join('|').str.get_dummies())\n",
            "C:\\Users\\luisg\\AppData\\Local\\Temp\\ipykernel_17660\\725810985.py:14: FutureWarning: In a future version of pandas all arguments of DataFrame.drop except for the argument 'labels' will be keyword-only.\n",
            "  X_recommend = X_recommend.drop('genres', 1).join(X_recommend['genres'].str.join('|').str.get_dummies())\n"
          ]
        }
      ],
      "source": [
        "# Training data\n",
        "X = playlist_tracks_df[['popularity', 'explicit', 'duration_ms', 'danceability', 'energy',\n",
        "                        'key', 'loudness', 'mode', 'speechiness', 'acousticness', 'instrumentalness',\n",
        "                        'liveness', 'valence', 'tempo', 'time_signature', 'genres']]  # order here is important for xgboost later\n",
        "y = playlist_tracks_df['ratings']\n",
        "\n",
        "# Drop NA\n",
        "X = X.dropna()\n",
        "recommendation_tracks_df = recommendation_tracks_df.dropna()\n",
        "\n",
        "# Crear columnas de géneros (one-hot encoding)\n",
        "X = X.drop('genres', 1).join(X['genres'].str.join('|').str.get_dummies())\n",
        "X_recommend = recommendation_tracks_df.copy()\n",
        "X_recommend = X_recommend.drop('genres', 1).join(X_recommend['genres'].str.join('|').str.get_dummies())\n",
        "\n",
        "# Asegurarse de que las características sean consistentes en el entrenamiento, la prueba y la evaluación\n",
        "X = X[X.columns.intersection(X_recommend.columns)]\n",
        "X_recommend = X_recommend[X_recommend.columns.intersection(X.columns)]\n",
        "\n",
        "# Train-test split\n",
        "X_train, X_test, y_train, y_test = train_test_split(X, y, test_size=0.2, random_state=42)"
      ]
    },
    {
      "cell_type": "markdown",
      "metadata": {
        "id": "MDrfHIqmv3tE"
      },
      "source": [
        "Hacer Cross Validation para obtener el mejor número de características"
      ]
    },
    {
      "cell_type": "code",
      "execution_count": 21,
      "metadata": {
        "id": "WPvi0pcfv-U7"
      },
      "outputs": [
        {
          "name": "stdout",
          "output_type": "stream",
          "text": [
            "Fitting estimator with 176 features.\n",
            "Fitting estimator with 175 features.\n",
            "Fitting estimator with 174 features.\n",
            "Fitting estimator with 173 features.\n",
            "Fitting estimator with 172 features.\n",
            "Fitting estimator with 171 features.\n",
            "Fitting estimator with 170 features.\n",
            "Fitting estimator with 169 features.\n",
            "Fitting estimator with 168 features.\n",
            "Fitting estimator with 167 features.\n",
            "Fitting estimator with 166 features.\n",
            "Optimal number of features: 165\n"
          ]
        },
        {
          "name": "stderr",
          "output_type": "stream",
          "text": [
            "c:\\Users\\luisg\\AppData\\Local\\Programs\\Python\\Python310\\lib\\site-packages\\sklearn\\utils\\deprecation.py:103: FutureWarning: The `grid_scores_` attribute is deprecated in version 1.0 in favor of `cv_results_` and will be removed in version 1.2.\n",
            "  warnings.warn(msg, category=FutureWarning)\n"
          ]
        },
        {
          "data": {
            "image/png": "[encoded data removed]",
            "text/plain": [
              "<Figure size 432x288 with 1 Axes>"
            ]
          },
          "metadata": {
            "needs_background": "light"
          },
          "output_type": "display_data"
        }
      ],
      "source": [
        "# Cross-validation for number of features \n",
        "rf = RandomForestClassifier(n_estimators = 1000, random_state = 42)\n",
        "rfecv = RFECV(estimator=rf, step=1, n_jobs=-1, cv=StratifiedKFold(2), verbose=1, scoring='roc_auc')\n",
        "rfecv.fit(X_train, y_train)\n",
        "\n",
        "print(f'Optimal number of features: {rfecv.n_features_}')\n",
        "plt.figure()\n",
        "plt.xlabel('Number of features selected')\n",
        "plt.ylabel('Cross validation score')\n",
        "plt.plot(range(1, len(rfecv.grid_scores_)+1), rfecv.grid_scores_)\n",
        "plt.show()"
      ]
    },
    {
      "cell_type": "code",
      "execution_count": 22,
      "metadata": {
        "id": "2iGR43kSwvNj"
      },
      "outputs": [
        {
          "name": "stdout",
          "output_type": "stream",
          "text": [
            "1. acousticness 0.14691808343169793\n",
            "2. loudness 0.12646088804053873\n",
            "3. duration_ms 0.10248284505463302\n",
            "4. corrido 0.08237992582955662\n",
            "5. instrumentalness 0.06464331927346294\n",
            "6. popularity 0.04428878771964202\n",
            "7. valence 0.03677124970138121\n",
            "8. tempo 0.032613882821950116\n",
            "9. trap latino 0.03239060202208191\n",
            "10. danceability 0.027191811547794747\n",
            "11. liveness 0.02582575526896965\n",
            "12. energy 0.024426013320965428\n",
            "13. dfw rap 0.02212288754206995\n",
            "14. speechiness 0.022012142106801316\n",
            "15. nueva musica mexicana 0.02138206107917103\n",
            "16. musica mexicana 0.016835813847628243\n",
            "17. acoustic pop 0.015636759649504516\n",
            "18. ranchera 0.01274241101547569\n",
            "19. pop rap 0.012281554491590315\n",
            "20. key 0.011629989244317617\n",
            "21. neo mellow 0.010231779044156696\n",
            "22. norteno 0.009643118999487174\n",
            "23. time_signature 0.008845459406777348\n",
            "24. slap house 0.0073481389063137555\n",
            "25. pop 0.006775280151218342\n",
            "26. reggaeton 0.0063132622732444185\n",
            "27. latin 0.005871748287747404\n",
            "28. dance pop 0.0049970018909019885\n",
            "29. trap 0.0046135823519535945\n",
            "30. corridos tumbados 0.003920779768948489\n",
            "31. banda 0.0038006098161817744\n",
            "32. indie folk 0.0035609153203919413\n",
            "33. southern hip hop 0.003468530747869865\n",
            "34. hip hop 0.0027100829905229544\n",
            "35. indie poptimism 0.0024425544379238057\n",
            "36. hard rock 0.0023480045475867337\n",
            "37. bass house 0.002206742819282913\n",
            "38. sierreno 0.0018784026040849062\n",
            "39. electronic trap 0.0017376400833802744\n",
            "40. pop rock 0.0017199772040043708\n",
            "41. dubstep 0.0015404671493318822\n",
            "42. melodic rap 0.001466603853404116\n",
            "43. rap 0.0012905292645207951\n",
            "44. corridos alternativos 0.0012164542402410264\n",
            "45. britpop 0.0011484627180859297\n",
            "46. detroit hip hop 0.0008934587082238209\n",
            "47. electro house 0.0008639672128200127\n",
            "48. madchester 0.0008587522741773472\n",
            "49. rock 0.0008462748155356809\n",
            "50. folk-pop 0.0008141142436320772\n",
            "51. canadian pop 0.0008000788610909076\n",
            "52. edm 0.0007181512016429725\n",
            "53. metal 0.0006569146088256888\n",
            "54. bass trap 0.0006523889378506651\n",
            "55. modern rock 0.0006029009948660238\n",
            "56. canadian hip hop 0.0005715785018806167\n",
            "57. pop dance 0.0005616087920032439\n",
            "58. uk pop 0.0005612670391385254\n",
            "59. west coast rap 0.0005515835051728598\n",
            "60. tropical house 0.0005292707232819312\n",
            "61. explicit 0.00047153297222354476\n",
            "62. boy band 0.0004408169237081988\n",
            "63. toronto rap 0.00042157563939754515\n",
            "64. tropical 0.00041485405796955964\n",
            "65. alternative r&b 0.0004130823334937902\n",
            "66. rock en espanol 0.0004067658039974691\n",
            "67. mode 0.0003995298178520565\n",
            "68. mariachi 0.0003988809121110822\n",
            "69. pittsburgh rap 0.0003778407870772612\n",
            "70. reggaeton colombiano 0.00037399407781029027\n",
            "71. viral pop 0.00035620529961297084\n",
            "72. indie pop 0.0003260752839031714\n",
            "73. hawaiian hip hop 0.00029562466606296344\n",
            "74. atl hip hop 0.0002274919247221978\n",
            "75. conscious hip hop 0.0002142173089666291\n",
            "76. alternative rock 0.00020277364988555672\n",
            "77. stomp and holler 0.00017887904131544912\n",
            "78. dmv rap 0.00012641331688056746\n",
            "79. pop venezolano 0.00010471124602371772\n",
            "80. permanent wave 0.00010415598179922336\n"
          ]
        }
      ],
      "source": [
        "# Obtener las características más importantes\n",
        "# Can use this with previous rfecv to reduce the number of features to speed up model training if needed \n",
        "rfc = RandomForestClassifier(n_estimators = 1000, max_depth=4, random_state=42, max_features=130)\n",
        "rfc.fit(X_train, y_train)\n",
        "\n",
        "important_features_dict = {}\n",
        "for idx, val in enumerate(rfc.feature_importances_):\n",
        "    important_features_dict[idx] = val\n",
        "\n",
        "important_features_list = sorted(important_features_dict,\n",
        "                                 key=important_features_dict.get,\n",
        "                                 reverse=True)\n",
        "for i in range(len(important_features_list[:80])):\n",
        "    print(f\"{i+1}. {X_train.columns[important_features_list[i]]} {important_features_dict[important_features_list[i]]}\")"
      ]
    },
    {
      "cell_type": "markdown",
      "metadata": {
        "id": "d639ObaKw68I"
      },
      "source": [
        "Aplicando Bosques Aleatorios"
      ]
    },
    {
      "cell_type": "code",
      "execution_count": 27,
      "metadata": {
        "id": "n43ITT6cw6uU"
      },
      "outputs": [
        {
          "name": "stdout",
          "output_type": "stream",
          "text": [
            "Fitting 2 folds for each of 28 candidates, totalling 56 fits\n",
            "RandomForestClassifier(max_depth=12, n_estimators=1000, random_state=42) {'max_depth': 12, 'min_samples_leaf': 1} 0.7910101946246524\n",
            "              precision    recall  f1-score   support\n",
            "\n",
            "           0       0.82      0.85      0.83        47\n",
            "           1       0.78      0.74      0.76        34\n",
            "\n",
            "    accuracy                           0.80        81\n",
            "   macro avg       0.80      0.79      0.80        81\n",
            "weighted avg       0.80      0.80      0.80        81\n",
            "\n"
          ]
        }
      ],
      "source": [
        "rfc = RandomForestClassifier(n_estimators = 1000, random_state=42)\n",
        "rfc_gcv_parameters = {'min_samples_leaf': [1, 3, 5, 8],\n",
        "                       'max_depth': [3, 4, 5, 8, 12, 16, 20], \n",
        "                     }\n",
        "rfe_gcv = GridSearchCV(rfc, rfc_gcv_parameters, n_jobs=-1, cv=StratifiedKFold(2), verbose=1, scoring='roc_auc')\n",
        "rfe_gcv.fit(X_train, y_train)\n",
        "print(rfe_gcv.best_estimator_, rfe_gcv.best_params_, rfe_gcv.best_score_)\n",
        "\n",
        "print(classification_report(y_test, rfe_gcv.predict(X_test)))\n"
      ]
    },
    {
      "cell_type": "code",
      "execution_count": 28,
      "metadata": {},
      "outputs": [
        {
          "data": {
            "text/html": [
              "<style>#sk-container-id-2 {color: black;background-color: white;}#sk-container-id-2 pre{padding: 0;}#sk-container-id-2 div.sk-toggleable {background-color: white;}#sk-container-id-2 label.sk-toggleable__label {cursor: pointer;display: block;width: 100%;margin-bottom: 0;padding: 0.3em;box-sizing: border-box;text-align: center;}#sk-container-id-2 label.sk-toggleable__label-arrow:before {content: \"▸\";float: left;margin-right: 0.25em;color: #696969;}#sk-container-id-2 label.sk-toggleable__label-arrow:hover:before {color: black;}#sk-container-id-2 div.sk-estimator:hover label.sk-toggleable__label-arrow:before {color: black;}#sk-container-id-2 div.sk-toggleable__content {max-height: 0;max-width: 0;overflow: hidden;text-align: left;background-color: #f0f8ff;}#sk-container-id-2 div.sk-toggleable__content pre {margin: 0.2em;color: black;border-radius: 0.25em;background-color: #f0f8ff;}#sk-container-id-2 input.sk-toggleable__control:checked~div.sk-toggleable__content {max-height: 200px;max-width: 100%;overflow: auto;}#sk-container-id-2 input.sk-toggleable__control:checked~label.sk-toggleable__label-arrow:before {content: \"▾\";}#sk-container-id-2 div.sk-estimator input.sk-toggleable__control:checked~label.sk-toggleable__label {background-color: #d4ebff;}#sk-container-id-2 div.sk-label input.sk-toggleable__control:checked~label.sk-toggleable__label {background-color: #d4ebff;}#sk-container-id-2 input.sk-hidden--visually {border: 0;clip: rect(1px 1px 1px 1px);clip: rect(1px, 1px, 1px, 1px);height: 1px;margin: -1px;overflow: hidden;padding: 0;position: absolute;width: 1px;}#sk-container-id-2 div.sk-estimator {font-family: monospace;background-color: #f0f8ff;border: 1px dotted black;border-radius: 0.25em;box-sizing: border-box;margin-bottom: 0.5em;}#sk-container-id-2 div.sk-estimator:hover {background-color: #d4ebff;}#sk-container-id-2 div.sk-parallel-item::after {content: \"\";width: 100%;border-bottom: 1px solid gray;flex-grow: 1;}#sk-container-id-2 div.sk-label:hover label.sk-toggleable__label {background-color: #d4ebff;}#sk-container-id-2 div.sk-serial::before {content: \"\";position: absolute;border-left: 1px solid gray;box-sizing: border-box;top: 0;bottom: 0;left: 50%;z-index: 0;}#sk-container-id-2 div.sk-serial {display: flex;flex-direction: column;align-items: center;background-color: white;padding-right: 0.2em;padding-left: 0.2em;position: relative;}#sk-container-id-2 div.sk-item {position: relative;z-index: 1;}#sk-container-id-2 div.sk-parallel {display: flex;align-items: stretch;justify-content: center;background-color: white;position: relative;}#sk-container-id-2 div.sk-item::before, #sk-container-id-2 div.sk-parallel-item::before {content: \"\";position: absolute;border-left: 1px solid gray;box-sizing: border-box;top: 0;bottom: 0;left: 50%;z-index: -1;}#sk-container-id-2 div.sk-parallel-item {display: flex;flex-direction: column;z-index: 1;position: relative;background-color: white;}#sk-container-id-2 div.sk-parallel-item:first-child::after {align-self: flex-end;width: 50%;}#sk-container-id-2 div.sk-parallel-item:last-child::after {align-self: flex-start;width: 50%;}#sk-container-id-2 div.sk-parallel-item:only-child::after {width: 0;}#sk-container-id-2 div.sk-dashed-wrapped {border: 1px dashed gray;margin: 0 0.4em 0.5em 0.4em;box-sizing: border-box;padding-bottom: 0.4em;background-color: white;}#sk-container-id-2 div.sk-label label {font-family: monospace;font-weight: bold;display: inline-block;line-height: 1.2em;}#sk-container-id-2 div.sk-label-container {text-align: center;}#sk-container-id-2 div.sk-container {/* jupyter's `normalize.less` sets `[hidden] { display: none; }` but bootstrap.min.css set `[hidden] { display: none !important; }` so we also need the `!important` here to be able to override the default hidden behavior on the sphinx rendered scikit-learn.org. See: https://github.com/scikit-learn/scikit-learn/issues/21755 */display: inline-block !important;position: relative;}#sk-container-id-2 div.sk-text-repr-fallback {display: none;}</style><div id=\"sk-container-id-2\" class=\"sk-top-container\"><div class=\"sk-text-repr-fallback\"><pre>RandomForestClassifier(max_depth=12, n_estimators=1000, random_state=42)</pre><b>In a Jupyter environment, please rerun this cell to show the HTML representation or trust the notebook. <br />On GitHub, the HTML representation is unable to render, please try loading this page with nbviewer.org.</b></div><div class=\"sk-container\" hidden><div class=\"sk-item\"><div class=\"sk-estimator sk-toggleable\"><input class=\"sk-toggleable__control sk-hidden--visually\" id=\"sk-estimator-id-2\" type=\"checkbox\" checked><label for=\"sk-estimator-id-2\" class=\"sk-toggleable__label sk-toggleable__label-arrow\">RandomForestClassifier</label><div class=\"sk-toggleable__content\"><pre>RandomForestClassifier(max_depth=12, n_estimators=1000, random_state=42)</pre></div></div></div></div></div>"
            ],
            "text/plain": [
              "RandomForestClassifier(max_depth=12, n_estimators=1000, random_state=42)"
            ]
          },
          "execution_count": 28,
          "metadata": {},
          "output_type": "execute_result"
        }
      ],
      "source": [
        "rfc = RandomForestClassifier(max_depth=12, n_estimators=1000, random_state=42, min_samples_leaf=1)\n",
        "rfc.fit(X_train, y_train)"
      ]
    },
    {
      "cell_type": "markdown",
      "metadata": {
        "id": "QX9WHyrGw7YM"
      },
      "source": [
        "Aplicando XGBoost"
      ]
    },
    {
      "cell_type": "code",
      "execution_count": 29,
      "metadata": {
        "id": "Gt8Ek2uHxaq7"
      },
      "outputs": [
        {
          "name": "stdout",
          "output_type": "stream",
          "text": [
            "Fitting 2 folds for each of 112 candidates, totalling 224 fits\n",
            "XGBClassifier(base_score=0.5, booster='gbtree', callbacks=None,\n",
            "              colsample_bylevel=1, colsample_bynode=1, colsample_bytree=1,\n",
            "              early_stopping_rounds=None, enable_categorical=False, eta=0.2,\n",
            "              eval_metric=None, gamma=0, gpu_id=-1, grow_policy='depthwise',\n",
            "              importance_type=None, interaction_constraints='',\n",
            "              learning_rate=0.200000003, max_bin=256, max_cat_to_onehot=4,\n",
            "              max_delta_step=0, max_depth=3, max_leaves=0, min_child_weight=0.3,\n",
            "              missing=nan, monotone_constraints='()', n_estimators=1000,\n",
            "              n_jobs=0, num_parallel_tree=1, predictor='auto', random_state=42,\n",
            "              reg_alpha=0, ...) 0.6864380599320359\n",
            "              precision    recall  f1-score   support\n",
            "\n",
            "           0       0.79      0.79      0.79        47\n",
            "           1       0.71      0.71      0.71        34\n",
            "\n",
            "    accuracy                           0.75        81\n",
            "   macro avg       0.75      0.75      0.75        81\n",
            "weighted avg       0.75      0.75      0.75        81\n",
            "\n"
          ]
        }
      ],
      "source": [
        "# XGBoost Classifier\n",
        "xgb = XGBClassifier(n_estimators = 1000, random_state=42, use_label_encoder=False)\n",
        "xgb_gcv_parameters = {'eta': [0.2, 0.3, 0.4, 0.5],\n",
        "                      'min_child_weight': [0.3, 0.5, 0.8, 1],\n",
        "                      'max_depth': [3, 4, 5, 8, 12, 16, 20], \n",
        "                     }\n",
        "xgb_gcv = GridSearchCV(xgb, xgb_gcv_parameters, n_jobs=-1, cv=StratifiedKFold(2), verbose=1, scoring='roc_auc')\n",
        "xgb_gcv.fit(X_train, y_train)  # use numpy values as xgboost requires fixed ordering\n",
        "print(xgb_gcv.best_estimator_, xgb_gcv.best_score_)\n",
        "\n",
        "print(classification_report(y_test, xgb_gcv.predict(X_test)))"
      ]
    },
    {
      "cell_type": "markdown",
      "metadata": {
        "id": "2I8_YE1Cxkdx"
      },
      "source": [
        "Aplicando KNN"
      ]
    },
    {
      "cell_type": "code",
      "execution_count": 30,
      "metadata": {
        "id": "YZhkTEMixloD"
      },
      "outputs": [
        {
          "name": "stdout",
          "output_type": "stream",
          "text": [
            "Fitting 2 folds for each of 9 candidates, totalling 18 fits\n",
            "{'n_neighbors': 5} 0.6062712388013594\n",
            "              precision    recall  f1-score   support\n",
            "\n",
            "           0       0.68      0.53      0.60        47\n",
            "           1       0.50      0.65      0.56        34\n",
            "\n",
            "    accuracy                           0.58        81\n",
            "   macro avg       0.59      0.59      0.58        81\n",
            "weighted avg       0.60      0.58      0.58        81\n",
            "\n"
          ]
        }
      ],
      "source": [
        "# KNN Classifier\n",
        "knn = KNeighborsClassifier(n_jobs=-1)\n",
        "knn_gcv_params = {'n_neighbors': range(1, 10)}\n",
        "\n",
        "knn_gcv = GridSearchCV(knn, knn_gcv_params, n_jobs=-1, cv=StratifiedKFold(2), verbose=1, scoring='roc_auc')\n",
        "knn_gcv.fit(X_train, y_train)\n",
        "print(knn_gcv.best_params_, knn_gcv.best_score_)\n",
        "\n",
        "print(classification_report(y_test, knn_gcv.predict(X_test)))"
      ]
    },
    {
      "cell_type": "markdown",
      "metadata": {
        "id": "YPAML05cxoYC"
      },
      "source": [
        "Llegó el momento de predecir, elegimos nuestro mejor modelo"
      ]
    },
    {
      "cell_type": "code",
      "execution_count": 47,
      "metadata": {
        "id": "x4CXZeyZxuY6"
      },
      "outputs": [],
      "source": [
        "recommendation_tracks_df['ratings'] = rfc.predict(X_recommend)\n",
        "recommendation_tracks_df['prob_ratings'] = rfc.predict_proba(X_recommend)[:,1]  # slice for probability of 1\n",
        "recommendation_tracks_df[recommendation_tracks_df['ratings'] == 1].head()\n",
        "\n",
        "#tracks where prob_ratings >= 0.7 which is a good number\n",
        "tracks_to_add = recommendation_tracks_df[recommendation_tracks_df['prob_ratings'] >= 0.8]"
      ]
    },
    {
      "cell_type": "markdown",
      "metadata": {
        "id": "F-T6u7xCx2Z7"
      },
      "source": [
        "Ahora que tenemos una serie de canciones las cuáles tienen una probabilidad alta de que nos gusten, elegiremos aquellas que vayan de acuerdo al mood actual.\n",
        "\n",
        "Extraemos la emoción de la persona de la imagen. Para esto utilizamos FER."
      ]
    },
    {
      "cell_type": "code",
      "execution_count": 48,
      "metadata": {
        "id": "u0ly524Fzmih"
      },
      "outputs": [
        {
          "name": "stderr",
          "output_type": "stream",
          "text": [
            "C:\\Users\\luisg\\AppData\\Local\\Temp\\ipykernel_17660\\3229747675.py:2: MatplotlibDeprecationWarning: Directly reading images from URLs is deprecated since 3.4 and will no longer be supported two minor releases later. Please open the URL for reading and pass the result to Pillow, e.g. with ``np.array(PIL.Image.open(urllib.request.urlopen(url)))``.\n",
            "  test_image_one = plt.imread(image_path,format=\"jpg\")\n"
          ]
        },
        {
          "name": "stdout",
          "output_type": "stream",
          "text": [
            "1/1 [==============================] - 0s 165ms/step\n",
            "1/1 [==============================] - 0s 132ms/step\n",
            "1/1 [==============================] - 0s 41ms/step\n",
            "1/1 [==============================] - 0s 31ms/step\n",
            "1/1 [==============================] - 0s 26ms/step\n",
            "1/1 [==============================] - 0s 25ms/step\n",
            "1/1 [==============================] - 0s 25ms/step\n",
            "1/1 [==============================] - 0s 17ms/step\n",
            "1/1 [==============================] - 0s 20ms/step\n",
            "1/1 [==============================] - 0s 68ms/step\n",
            "1/1 [==============================] - 0s 21ms/step\n",
            "1/1 [==============================] - 0s 20ms/step\n",
            "6/6 [==============================] - 0s 6ms/step\n",
            "1/1 [==============================] - 0s 142ms/step\n",
            "1/1 [==============================] - 0s 94ms/step\n",
            "1/1 [==============================] - 0s 60ms/step\n",
            "1/1 [==============================] - 0s 49ms/step\n",
            "1/1 [==============================] - 0s 31ms/step\n",
            "1/1 [==============================] - 0s 25ms/step\n",
            "1/1 [==============================] - 0s 25ms/step\n",
            "1/1 [==============================] - 0s 22ms/step\n",
            "1/1 [==============================] - 0s 18ms/step\n",
            "1/1 [==============================] - 0s 19ms/step\n",
            "1/1 [==============================] - 0s 26ms/step\n",
            "1/1 [==============================] - 0s 17ms/step\n",
            "1/1 [==============================] - 0s 19ms/step\n",
            "6/6 [==============================] - 0s 6ms/step\n",
            "1/1 [==============================] - 0s 26ms/step\n",
            "[{'box': [378, 549, 138, 172], 'emotions': {'angry': 0.0, 'disgust': 0.0, 'fear': 0.0, 'happy': 1.0, 'sad': 0.0, 'surprise': 0.0, 'neutral': 0.0}}]\n"
          ]
        },
        {
          "data": {
            "image/png": "[encoded data removed]",
            "text/plain": [
              "<Figure size 432x288 with 1 Axes>"
            ]
          },
          "metadata": {
            "needs_background": "light"
          },
          "output_type": "display_data"
        }
      ],
      "source": [
        "image_path = \"https://github.com/joseisaias06/FER_Spotify_Recommender/raw/main/images/face_image12.jpg\"\n",
        "test_image_one = plt.imread(image_path,format=\"jpg\")\n",
        "emo_detector = FER(mtcnn=True)\n",
        "captured_emotions = emo_detector.detect_emotions(test_image_one)\n",
        "\n",
        "\n",
        "# Print all captured emotions with the image\n",
        "\n",
        "bounding_box = captured_emotions[0][\"box\"]\n",
        "emotions = captured_emotions[0][\"emotions\"]\n",
        "cv2.rectangle(test_image_one,(\n",
        "  bounding_box[0], bounding_box[1]),(\n",
        "  bounding_box[0] + bounding_box[2], bounding_box[1] + bounding_box[3]),\n",
        "              (0, 155, 255), 2,)\n",
        "\n",
        "emotion_name, score = emo_detector.top_emotion(test_image_one)\n",
        "mood = emotion_name\n",
        "for index, (emotion_name, score) in enumerate(emotions.items()):\n",
        "  color = (211, 211,211) if score < 0.07 else (255, 0, 0)\n",
        "  emotion_score = \"{}: {}\".format(emotion_name, \"{:.2f}\".format(score))\n",
        "\n",
        "  cv2.putText(test_image_one,emotion_score,\n",
        "              (bounding_box[0], bounding_box[1] + bounding_box[3] + 30 + index * 15),\n",
        "              cv2.FONT_HERSHEY_SIMPLEX,0.5,color,1,cv2.LINE_AA,)\n",
        "\n",
        "\n",
        "plt.imshow(test_image_one)\n",
        "print(captured_emotions)\n",
        "plt.show()\n"
      ]
    },
    {
      "cell_type": "markdown",
      "metadata": {
        "id": "Yk6YS4b70jL1"
      },
      "source": [
        "Para seleccionar el tipo de canciones para cada mood, nos basamos en las características de 'Energy' y 'Valence' de cada canción, guiados por Circumplex Model of Affect(Russell 1980).\n",
        "\n",
        "Dependiendo del estado de ánimo, creamos un vector con determinados valores con el que prodemos calcular la distancia y obtener las canciones más adecuadas."
      ]
    },
    {
      "cell_type": "code",
      "execution_count": 36,
      "metadata": {
        "id": "sDf4GIZu1PKa"
      },
      "outputs": [],
      "source": [
        "top_tracks_df['mood_vector'] = top_tracks_df[['valence','energy']].values.tolist()\n",
        "if mood == 'happy':\n",
        "    track_moodvec = np.array([1, 1])\n",
        "elif mood == 'sad':\n",
        "    track_moodvec = np.array([0, 0.0])\n",
        "elif mood == 'angry':\n",
        "    track_moodvec = np.array([0.35, 0.75])\n",
        "elif mood == 'disgust':\n",
        "    track_moodvec = np.array([0.42, 0.9])\n",
        "elif mood == 'fear':\n",
        "    track_moodvec = np.array([0.3, 0.5])\n",
        "elif mood == 'surprise':\n",
        "    track_moodvec = np.array([0.55, 0.8])\n",
        "elif mood == 'neutral':\n",
        "    track_moodvec = np.array([0.6, 0.45])\n",
        "    \n",
        "#Calculamos las distancias para cada canción    \n",
        "top_tracks_df['distances'] = top_tracks_df['mood_vector'].apply(lambda x: norm(track_moodvec-np.array(x)))\n",
        "emotion_track = top_tracks_df[top_tracks_df['distances'] == top_tracks_df['distances'].min()]"
      ]
    },
    {
      "cell_type": "markdown",
      "metadata": {
        "id": "2LXaC6Bh1ytA"
      },
      "source": [
        "Finalmente, de todas las recomendaciones que obtuvimos anteriormente, elegimos aquellas que más se asemejen al mood, y podemos tomar en cuenta también la popularidad para organizar."
      ]
    },
    {
      "cell_type": "code",
      "execution_count": 49,
      "metadata": {
        "id": "lMytq7ne1yfn"
      },
      "outputs": [
        {
          "name": "stdout",
          "output_type": "stream",
          "text": [
            "                                                   name       artist_name\n",
            "2039                                       X ÚLTIMA VEZ      Daddy Yankee\n",
            "1898  Lo Siento BB:/ (with Bad Bunny & Julieta Venegas)             Tainy\n",
            "1999                                             Sobrio            Maluma\n",
            "1908                                             DÁKITI         Bad Bunny\n",
            "1538                                      La Curiosidad       Jay Wheeler\n",
            "...                                                 ...               ...\n",
            "1963                                            Sistema     Zion & Lennox\n",
            "1937                                          Full Moon           Guaynaa\n",
            "538                                       FUI RECLUTADO   Abraham Vazquez\n",
            "1995                                              Rueda              Juhn\n",
            "394                                        Juan Ignacio  La Septima Banda\n",
            "\n",
            "[287 rows x 2 columns]\n"
          ]
        },
        {
          "name": "stderr",
          "output_type": "stream",
          "text": [
            "C:\\Users\\luisg\\AppData\\Local\\Temp\\ipykernel_17660\\1772204668.py:5: SettingWithCopyWarning: \n",
            "A value is trying to be set on a copy of a slice from a DataFrame.\n",
            "Try using .loc[row_indexer,col_indexer] = value instead\n",
            "\n",
            "See the caveats in the documentation: https://pandas.pydata.org/pandas-docs/stable/user_guide/indexing.html#returning-a-view-versus-a-copy\n",
            "  tracks_to_add['mood_vector'] = tracks_to_add[['valence','energy']].values.tolist()\n",
            "C:\\Users\\luisg\\AppData\\Local\\Temp\\ipykernel_17660\\1772204668.py:6: SettingWithCopyWarning: \n",
            "A value is trying to be set on a copy of a slice from a DataFrame.\n",
            "Try using .loc[row_indexer,col_indexer] = value instead\n",
            "\n",
            "See the caveats in the documentation: https://pandas.pydata.org/pandas-docs/stable/user_guide/indexing.html#returning-a-view-versus-a-copy\n",
            "  tracks_to_add[\"distances\"] = tracks_to_add[\"mood_vector\"].apply(lambda x: norm(track_moodvec-np.array(x)))\n"
          ]
        }
      ],
      "source": [
        "# Crawl valence and arousal of given track\n",
        "track_moodvec = np.array([emotion_track.valence, emotion_track.energy])\n",
        "\n",
        "# Compute distances to all reference tracks\n",
        "tracks_to_add['mood_vector'] = tracks_to_add[['valence','energy']].values.tolist()\n",
        "tracks_to_add[\"distances\"] = tracks_to_add[\"mood_vector\"].apply(lambda x: norm(track_moodvec-np.array(x)))\n",
        "\n",
        "# Sort distances from lowest to highest\n",
        "final_tracks = tracks_to_add.sort_values(by = [\"distances\"], ascending = [True])\n",
        "\n",
        "#final_tracks['popularity'] = final_tracks['popularity'] / 100 \n",
        "print(final_tracks.sort_values(by = \"popularity\", ascending = False)[['name', 'artist_name']])\n",
        "\n",
        "#print(final_tracks[['name', 'artist_name']])"
      ]
    }
  ],
  "metadata": {
    "colab": {
      "collapsed_sections": [],
      "name": "recommender.ipynb",
      "provenance": []
    },
    "interpreter": {
      "hash": "0d39cb6ff50cf1958f2faf771f61470a7eb240538ee43dce4d3ffc94fb708a2f"
    },
    "kernelspec": {
      "display_name": "Python 3.10.0 64-bit",
      "language": "python",
      "name": "python3"
    },
    "language_info": {
      "codemirror_mode": {
        "name": "ipython",
        "version": 3
      },
      "file_extension": ".py",
      "mimetype": "text/x-python",
      "name": "python",
      "nbconvert_exporter": "python",
      "pygments_lexer": "ipython3",
      "version": "3.10.0"
    }
  },
  "nbformat": 4,
  "nbformat_minor": 0
}
